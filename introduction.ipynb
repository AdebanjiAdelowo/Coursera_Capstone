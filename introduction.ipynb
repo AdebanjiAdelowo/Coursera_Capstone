{
 "cells": [
  {
   "cell_type": "markdown",
   "metadata": {},
   "source": [
    "# Final Data Science Capstone"
   ]
  },
  {
   "cell_type": "markdown",
   "metadata": {},
   "source": [
    "### Introduction - Business Problem"
   ]
  },
  {
   "cell_type": "markdown",
   "metadata": {},
   "source": [
    "In this project, we will explore London, the most multicultural city in the United kingdom and its financial capital.\n",
    "\n",
    "We explore places around London and discuss what makes London unique!  London is truly a multicultural city with various restaurants like African restuarants, Chinese restuarants, German resturants and many more.\n",
    "\n",
    "The beautiful places around London is a reason why you need to visit London. Also, London is a good place to start business.\n",
    "London is a city where businesses thrive. There are many amazing businesses around London.\n",
    "\n",
    "We compare London to the multicultural city of Toronto by exploring the different venues around London and Toronto. We determine\n",
    "\n",
    "1. which place is the best place to start a business out of the two.\n",
    "2. The best place to live\n",
    "3. And the most multicultural city between London and Toronto by looking at the different terms of restaurants.\n",
    "\n",
    "We use the postal district table given in the folowing link https://en.wikipedia.org/wiki/London_postal_district. \n",
    "The link provides the postal district code, postal town, coverage and local authority area(s) of postal districts of London.\n",
    "\n",
    "We use the Foursquare API to explore the venues given the location of the London's districts.\n",
    "\n",
    "Finally, we use K-means clustering to cluster all the coverages(districts) in London. We then group then base on the clusters."
   ]
  },
  {
   "cell_type": "code",
   "execution_count": null,
   "metadata": {},
   "outputs": [],
   "source": []
  }
 ],
 "metadata": {
  "kernelspec": {
   "display_name": "Python 3",
   "language": "python",
   "name": "python3"
  },
  "language_info": {
   "codemirror_mode": {
    "name": "ipython",
    "version": 3
   },
   "file_extension": ".py",
   "mimetype": "text/x-python",
   "name": "python",
   "nbconvert_exporter": "python",
   "pygments_lexer": "ipython3",
   "version": "3.8.5"
  }
 },
 "nbformat": 4,
 "nbformat_minor": 4
}
